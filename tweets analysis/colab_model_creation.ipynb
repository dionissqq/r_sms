{
  "nbformat": 4,
  "nbformat_minor": 0,
  "metadata": {
    "colab": {
      "name": "coursach.ipynb",
      "provenance": [],
      "collapsed_sections": []
    },
    "kernelspec": {
      "name": "python3",
      "display_name": "Python 3"
    },
    "language_info": {
      "name": "python"
    }
  },
  "cells": [
    {
      "cell_type": "code",
      "metadata": {
        "colab": {
          "base_uri": "https://localhost:8080/"
        },
        "id": "mMi1CjsrLZP6",
        "outputId": "df7f80aa-c071-4b3c-b1ac-7f014ec7ceb7"
      },
      "source": [
        "!pip install dnspython\n",
        "!pip install colab-env --upgrade"
      ],
      "execution_count": null,
      "outputs": [
        {
          "output_type": "stream",
          "text": [
            "Requirement already satisfied: dnspython in /usr/local/lib/python3.7/dist-packages (2.1.0)\n",
            "Requirement already up-to-date: colab-env in /usr/local/lib/python3.7/dist-packages (0.2.0)\n",
            "Requirement already satisfied, skipping upgrade: python-dotenv<1.0,>=0.10.0 in /usr/local/lib/python3.7/dist-packages (from colab-env) (0.17.0)\n"
          ],
          "name": "stdout"
        }
      ]
    },
    {
      "cell_type": "code",
      "metadata": {
        "id": "lbX1b0J5JKH7",
        "colab": {
          "base_uri": "https://localhost:8080/"
        },
        "outputId": "0347bbfc-8912-4afd-92cb-d977536c8904"
      },
      "source": [
        "from pymongo import MongoClient\n",
        "import pandas as pd\n",
        "import colab_env\n",
        "import os\n",
        "import numpy as np\n",
        "import tensorflow_hub as hub\n",
        "import matplotlib.pyplot as plt\n",
        "import tensorflow as tf\n",
        "\n",
        "DB_STRING = os.getenv('DB_STRING')\n",
        "\n",
        "client = MongoClient(DB_STRING)\n",
        "db = client.tweets"
      ],
      "execution_count": null,
      "outputs": [
        {
          "output_type": "stream",
          "text": [
            "Mounted at /content/gdrive\n"
          ],
          "name": "stdout"
        }
      ]
    },
    {
      "cell_type": "code",
      "metadata": {
        "id": "v-CMhyZJa9wL"
      },
      "source": [
        "themes = [\n",
        "    'politics',\n",
        "    'education',\n",
        "    'programming',\n",
        "    'anime',\n",
        "    'manga',\n",
        "    'food',\n",
        "    'smoking',\n",
        "    'motivation',\n",
        "    'blm',\n",
        "    'crypto',\n",
        "    'football',\n",
        "    'voleyball',\n",
        "    'comics',\n",
        "    'beauty',\n",
        "    'friends',\n",
        "    'alcohol',\n",
        "    'deeplearning',\n",
        "    'fitness',\n",
        "    'funny',\n",
        "    'travel'\n",
        "]"
      ],
      "execution_count": null,
      "outputs": []
    },
    {
      "cell_type": "code",
      "metadata": {
        "colab": {
          "base_uri": "https://localhost:8080/",
          "height": 204
        },
        "id": "qu4FQBAYbKbG",
        "outputId": "caa2bbd0-f96b-42c0-b490-49ebf3f725da"
      },
      "source": [
        "dataset = pd.DataFrame(columns=['text', 'target'])\n",
        "themed_tweets = {}\n",
        "\n",
        "for theme in themes:\n",
        "  collection = db[theme]\n",
        "  themed_data = pd.DataFrame(list(collection.find()))\n",
        "  themed_data = themed_data.drop('_id', axis=1)\n",
        "  themed_tweets[theme] = themed_data.copy()\n",
        "  themed_data['target'] = theme\n",
        "  dataset = dataset.append(themed_data)\n",
        "\n",
        "dataset = dataset.sample(frac=1) \n",
        "dataset.head()"
      ],
      "execution_count": null,
      "outputs": [
        {
          "output_type": "execute_result",
          "data": {
            "text/html": [
              "<div>\n",
              "<style scoped>\n",
              "    .dataframe tbody tr th:only-of-type {\n",
              "        vertical-align: middle;\n",
              "    }\n",
              "\n",
              "    .dataframe tbody tr th {\n",
              "        vertical-align: top;\n",
              "    }\n",
              "\n",
              "    .dataframe thead th {\n",
              "        text-align: right;\n",
              "    }\n",
              "</style>\n",
              "<table border=\"1\" class=\"dataframe\">\n",
              "  <thead>\n",
              "    <tr style=\"text-align: right;\">\n",
              "      <th></th>\n",
              "      <th>text</th>\n",
              "      <th>target</th>\n",
              "    </tr>\n",
              "  </thead>\n",
              "  <tbody>\n",
              "    <tr>\n",
              "      <th>2670</th>\n",
              "      <td>Ahahaha its not funny but Im giggling cuz we s...</td>\n",
              "      <td>funny</td>\n",
              "    </tr>\n",
              "    <tr>\n",
              "      <th>2488</th>\n",
              "      <td>Two months alcohol free this week</td>\n",
              "      <td>alcohol</td>\n",
              "    </tr>\n",
              "    <tr>\n",
              "      <th>1916</th>\n",
              "      <td>are absurd &amp;amp; thin stuff. A serious imbiber...</td>\n",
              "      <td>alcohol</td>\n",
              "    </tr>\n",
              "    <tr>\n",
              "      <th>1119</th>\n",
              "      <td>Heres to alcohol, the rose-colored glasses of ...</td>\n",
              "      <td>alcohol</td>\n",
              "    </tr>\n",
              "    <tr>\n",
              "      <th>2846</th>\n",
              "      <td>I used to smoke and I found that smoking has a...</td>\n",
              "      <td>smoking</td>\n",
              "    </tr>\n",
              "  </tbody>\n",
              "</table>\n",
              "</div>"
            ],
            "text/plain": [
              "                                                   text   target\n",
              "2670  Ahahaha its not funny but Im giggling cuz we s...    funny\n",
              "2488                 Two months alcohol free this week   alcohol\n",
              "1916  are absurd &amp; thin stuff. A serious imbiber...  alcohol\n",
              "1119  Heres to alcohol, the rose-colored glasses of ...  alcohol\n",
              "2846  I used to smoke and I found that smoking has a...  smoking"
            ]
          },
          "metadata": {
            "tags": []
          },
          "execution_count": 56
        }
      ]
    },
    {
      "cell_type": "code",
      "metadata": {
        "id": "ta1lCz9JrTaw"
      },
      "source": [
        "module_url = \"https://tfhub.dev/google/tf2-preview/gnews-swivel-20dim/1\" #@param [\"https://tfhub.dev/google/tf2-preview/gnews-swivel-20dim/1\", \"https://tfhub.dev/google/tf2-preview/nnlm-en-dim50/1\", \"https://tfhub.dev/google/tf2-preview/nnlm-en-dim128/1\", \"https://tfhub.dev/google/universal-sentence-encoder/4\", \"https://tfhub.dev/google/universal-sentence-encoder-large/5\"] {allow-input: true}"
      ],
      "execution_count": null,
      "outputs": []
    },
    {
      "cell_type": "code",
      "metadata": {
        "colab": {
          "base_uri": "https://localhost:8080/"
        },
        "id": "FzCk8wKUisKu",
        "outputId": "b0c61f3c-7bb9-45c6-8d57-bd2634e38745"
      },
      "source": [
        "embed = hub.load(module_url)\n",
        "embeddings_array = []\n",
        "\n",
        "for theme in themes:\n",
        "  theme_embeddings = np.average(embed(themed_tweets[theme]['text']),axis = 0)\n",
        "  embeddings_array.append(theme_embeddings)\n",
        "\n",
        "np.shape(embeddings_array)"
      ],
      "execution_count": null,
      "outputs": [
        {
          "output_type": "execute_result",
          "data": {
            "text/plain": [
              "(20, 20)"
            ]
          },
          "metadata": {
            "tags": []
          },
          "execution_count": 58
        }
      ]
    },
    {
      "cell_type": "code",
      "metadata": {
        "id": "Av3BvCn3lZdA"
      },
      "source": [
        "def compute_pca(X, n_components=2):\n",
        "    X_demeaned = X - np.mean(X, axis=0)\n",
        "\n",
        "    # calculate the covariance matrix\n",
        "    covariance_matrix = np.cov(X_demeaned, rowvar = False)\n",
        "\n",
        "    # calculate eigenvectors & eigenvalues of the covariance matrix\n",
        "    eigen_vals, eigen_vecs = np.linalg.eigh(covariance_matrix, UPLO = 'L')\n",
        "\n",
        "    # sort eigenvalue in increasing order (get the indices from the sort)\n",
        "    idx_sorted = np.argsort(eigen_vals)\n",
        "\n",
        "    # reverse the order so that it's from highest to lowest.\n",
        "    idx_sorted_decreasing = idx_sorted[::-1]\n",
        "\n",
        "    # sort the eigen values by idx_sorted_decreasing\n",
        "    eigen_vals_sorted = eigen_vals[idx_sorted_decreasing]\n",
        "    \n",
        "    # sort eigenvectors using the idx_sorted_decreasing indices\n",
        "    eigen_vecs_sorted = eigen_vecs[:,idx_sorted_decreasing]\n",
        "\n",
        "    # select the first n eigenvectors (n is desired dimension\n",
        "    # of rescaled data array, or dims_rescaled_data)\n",
        "    eigen_vecs_subset = eigen_vecs_sorted[:,:n_components]\n",
        "\n",
        "    # transform the data by multiplying the transpose of the eigenvectors \n",
        "    # with the transpose of the de-meaned data\n",
        "    # Then take the transpose of that product.\n",
        "    X_reduced = (np.dot(eigen_vecs_subset.T, X_demeaned.T)).T\n",
        "\n",
        "    ### END CODE HERE ###\n",
        "\n",
        "    return X_reduced"
      ],
      "execution_count": null,
      "outputs": []
    },
    {
      "cell_type": "code",
      "metadata": {
        "colab": {
          "base_uri": "https://localhost:8080/",
          "height": 270
        },
        "id": "mT75qb0Nlhyx",
        "outputId": "d62ca710-a1c8-4891-dfca-01b48a034c9b"
      },
      "source": [
        "result = compute_pca(embeddings_array, n_components=2)\n",
        "\n",
        "plt.scatter(result[:, 0], result[:, 1])\n",
        "for i, word in enumerate(themes):\n",
        "    plt.annotate(word, xy=(result[i, 0] - 0.05, result[i, 1] + 0.1))\n",
        "\n",
        "plt.show()\n"
      ],
      "execution_count": null,
      "outputs": [
        {
          "output_type": "display_data",
          "data": {
            "image/png": "[encoded data removed]",
            "text/plain": [
              "<Figure size 432x288 with 1 Axes>"
            ]
          },
          "metadata": {
            "tags": [],
            "needs_background": "light"
          }
        }
      ]
    },
    {
      "cell_type": "code",
      "metadata": {
        "colab": {
          "base_uri": "https://localhost:8080/",
          "height": 204
        },
        "id": "kiW-TKPZKki8",
        "outputId": "b977b3d0-3eaa-4776-9e18-59019a8b49e9"
      },
      "source": [
        "dataset['target'] = dataset['target'].apply(lambda val: themes.index(val)) \n",
        "dataset.head()"
      ],
      "execution_count": null,
      "outputs": [
        {
          "output_type": "execute_result",
          "data": {
            "text/html": [
              "<div>\n",
              "<style scoped>\n",
              "    .dataframe tbody tr th:only-of-type {\n",
              "        vertical-align: middle;\n",
              "    }\n",
              "\n",
              "    .dataframe tbody tr th {\n",
              "        vertical-align: top;\n",
              "    }\n",
              "\n",
              "    .dataframe thead th {\n",
              "        text-align: right;\n",
              "    }\n",
              "</style>\n",
              "<table border=\"1\" class=\"dataframe\">\n",
              "  <thead>\n",
              "    <tr style=\"text-align: right;\">\n",
              "      <th></th>\n",
              "      <th>text</th>\n",
              "      <th>target</th>\n",
              "    </tr>\n",
              "  </thead>\n",
              "  <tbody>\n",
              "    <tr>\n",
              "      <th>2670</th>\n",
              "      <td>Ahahaha its not funny but Im giggling cuz we s...</td>\n",
              "      <td>18</td>\n",
              "    </tr>\n",
              "    <tr>\n",
              "      <th>2488</th>\n",
              "      <td>Two months alcohol free this week</td>\n",
              "      <td>15</td>\n",
              "    </tr>\n",
              "    <tr>\n",
              "      <th>1916</th>\n",
              "      <td>are absurd &amp;amp; thin stuff. A serious imbiber...</td>\n",
              "      <td>15</td>\n",
              "    </tr>\n",
              "    <tr>\n",
              "      <th>1119</th>\n",
              "      <td>Heres to alcohol, the rose-colored glasses of ...</td>\n",
              "      <td>15</td>\n",
              "    </tr>\n",
              "    <tr>\n",
              "      <th>2846</th>\n",
              "      <td>I used to smoke and I found that smoking has a...</td>\n",
              "      <td>6</td>\n",
              "    </tr>\n",
              "  </tbody>\n",
              "</table>\n",
              "</div>"
            ],
            "text/plain": [
              "                                                   text  target\n",
              "2670  Ahahaha its not funny but Im giggling cuz we s...      18\n",
              "2488                 Two months alcohol free this week       15\n",
              "1916  are absurd &amp; thin stuff. A serious imbiber...      15\n",
              "1119  Heres to alcohol, the rose-colored glasses of ...      15\n",
              "2846  I used to smoke and I found that smoking has a...       6"
            ]
          },
          "metadata": {
            "tags": []
          },
          "execution_count": 67
        }
      ]
    },
    {
      "cell_type": "code",
      "metadata": {
        "colab": {
          "base_uri": "https://localhost:8080/"
        },
        "id": "xPpVB4zIsw-3",
        "outputId": "5c821c89-03a9-46ba-8730-62f23521df19"
      },
      "source": [
        "dataset_len = len(dataset)\n",
        "print(dataset_len)\n",
        "\n",
        "train_part = 0.8\n",
        "train, test = np.split(dataset, [int(train_part*dataset_len)])\n",
        "\n",
        "print(len(train))\n",
        "print(len(test))"
      ],
      "execution_count": null,
      "outputs": [
        {
          "output_type": "stream",
          "text": [
            "54096\n",
            "43276\n",
            "10820\n"
          ],
          "name": "stdout"
        }
      ]
    },
    {
      "cell_type": "code",
      "metadata": {
        "id": "LQinK26wLjLp"
      },
      "source": [
        "def create_model():\n",
        "\n",
        "  hub_layer=hub.KerasLayer(module_url, input_shape=[], output_shape=[20], dtype=tf.string, trainable=False)\n",
        "\n",
        "  model = tf.keras.models.Sequential([\n",
        "      hub_layer,\n",
        "      tf.keras.layers.Dense(128, activation='relu'),\n",
        "      tf.keras.layers.Dense(64, activation='relu'),\n",
        "      tf.keras.layers.Dense(20)                                    \n",
        "    ])\n",
        "  \n",
        "  model.compile(optimizer='adam',\n",
        "              loss=tf.keras.losses.SparseCategoricalCrossentropy(from_logits=True),\n",
        "              metrics=['accuracy'])\n",
        "  \n",
        "  return model"
      ],
      "execution_count": null,
      "outputs": []
    },
    {
      "cell_type": "code",
      "metadata": {
        "id": "uICIYA3eTbMe"
      },
      "source": [
        "model = create_model()\n"
      ],
      "execution_count": null,
      "outputs": []
    },
    {
      "cell_type": "code",
      "metadata": {
        "colab": {
          "base_uri": "https://localhost:8080/"
        },
        "id": "MbPnm-ccMXro",
        "outputId": "1e6bbc56-3daa-4d30-a0ba-09209cf9ae83"
      },
      "source": [
        "history = model.fit(\n",
        "    train['text'], \n",
        "    train['target'], \n",
        "    epochs=50,\n",
        "    batch_size=32,\n",
        "    validation_data=(test['text'], test['target']),\n",
        ")"
      ],
      "execution_count": null,
      "outputs": [
        {
          "output_type": "stream",
          "text": [
            "Epoch 1/50\n",
            "1353/1353 [==============================] - 4s 3ms/step - loss: 2.1600 - accuracy: 0.3356 - val_loss: 1.7404 - val_accuracy: 0.4565\n",
            "Epoch 2/50\n",
            "1353/1353 [==============================] - 3s 3ms/step - loss: 1.7308 - accuracy: 0.4696 - val_loss: 1.6969 - val_accuracy: 0.4811\n",
            "Epoch 3/50\n",
            "1353/1353 [==============================] - 3s 3ms/step - loss: 1.6937 - accuracy: 0.4789 - val_loss: 1.6761 - val_accuracy: 0.4799\n",
            "Epoch 4/50\n",
            "1353/1353 [==============================] - 3s 2ms/step - loss: 1.6561 - accuracy: 0.4927 - val_loss: 1.6571 - val_accuracy: 0.4897\n",
            "Epoch 5/50\n",
            "1353/1353 [==============================] - 3s 2ms/step - loss: 1.6319 - accuracy: 0.4954 - val_loss: 1.6473 - val_accuracy: 0.4913\n",
            "Epoch 6/50\n",
            "1353/1353 [==============================] - 3s 3ms/step - loss: 1.6152 - accuracy: 0.5029 - val_loss: 1.6230 - val_accuracy: 0.4977\n",
            "Epoch 7/50\n",
            "1353/1353 [==============================] - 3s 3ms/step - loss: 1.6142 - accuracy: 0.5035 - val_loss: 1.6171 - val_accuracy: 0.5042\n",
            "Epoch 8/50\n",
            "1353/1353 [==============================] - 3s 3ms/step - loss: 1.5982 - accuracy: 0.5059 - val_loss: 1.6179 - val_accuracy: 0.5028\n",
            "Epoch 9/50\n",
            "1353/1353 [==============================] - 3s 3ms/step - loss: 1.5880 - accuracy: 0.5081 - val_loss: 1.6156 - val_accuracy: 0.5050\n",
            "Epoch 10/50\n",
            "1353/1353 [==============================] - 4s 3ms/step - loss: 1.5722 - accuracy: 0.5171 - val_loss: 1.6144 - val_accuracy: 0.5039\n",
            "Epoch 11/50\n",
            "1353/1353 [==============================] - 4s 3ms/step - loss: 1.5594 - accuracy: 0.5203 - val_loss: 1.6075 - val_accuracy: 0.5074\n",
            "Epoch 12/50\n",
            "1353/1353 [==============================] - 3s 3ms/step - loss: 1.5472 - accuracy: 0.5202 - val_loss: 1.6240 - val_accuracy: 0.5033\n",
            "Epoch 13/50\n",
            "1353/1353 [==============================] - 3s 3ms/step - loss: 1.5259 - accuracy: 0.5298 - val_loss: 1.5927 - val_accuracy: 0.5112\n",
            "Epoch 14/50\n",
            "1353/1353 [==============================] - 3s 3ms/step - loss: 1.5227 - accuracy: 0.5274 - val_loss: 1.5941 - val_accuracy: 0.5068\n",
            "Epoch 15/50\n",
            "1353/1353 [==============================] - 3s 3ms/step - loss: 1.5202 - accuracy: 0.5283 - val_loss: 1.6035 - val_accuracy: 0.5120\n",
            "Epoch 16/50\n",
            "1353/1353 [==============================] - 3s 3ms/step - loss: 1.5157 - accuracy: 0.5303 - val_loss: 1.6101 - val_accuracy: 0.5056\n",
            "Epoch 17/50\n",
            "1353/1353 [==============================] - 3s 3ms/step - loss: 1.5110 - accuracy: 0.5312 - val_loss: 1.5920 - val_accuracy: 0.5098\n",
            "Epoch 18/50\n",
            "1353/1353 [==============================] - 3s 3ms/step - loss: 1.5234 - accuracy: 0.5267 - val_loss: 1.6047 - val_accuracy: 0.5113\n",
            "Epoch 19/50\n",
            "1353/1353 [==============================] - 3s 3ms/step - loss: 1.5063 - accuracy: 0.5333 - val_loss: 1.6126 - val_accuracy: 0.5117\n",
            "Epoch 20/50\n",
            "1353/1353 [==============================] - 3s 3ms/step - loss: 1.4910 - accuracy: 0.5388 - val_loss: 1.6071 - val_accuracy: 0.5104\n",
            "Epoch 21/50\n",
            "1353/1353 [==============================] - 3s 3ms/step - loss: 1.4966 - accuracy: 0.5366 - val_loss: 1.6081 - val_accuracy: 0.5064\n",
            "Epoch 22/50\n",
            "1353/1353 [==============================] - 4s 3ms/step - loss: 1.4827 - accuracy: 0.5419 - val_loss: 1.5922 - val_accuracy: 0.5163\n",
            "Epoch 23/50\n",
            "1353/1353 [==============================] - 3s 3ms/step - loss: 1.4886 - accuracy: 0.5410 - val_loss: 1.5901 - val_accuracy: 0.5185\n",
            "Epoch 24/50\n",
            "1353/1353 [==============================] - 3s 3ms/step - loss: 1.4789 - accuracy: 0.5406 - val_loss: 1.5942 - val_accuracy: 0.5172\n",
            "Epoch 25/50\n",
            "1353/1353 [==============================] - 3s 3ms/step - loss: 1.4732 - accuracy: 0.5438 - val_loss: 1.6042 - val_accuracy: 0.5124\n",
            "Epoch 26/50\n",
            "1353/1353 [==============================] - 3s 3ms/step - loss: 1.4626 - accuracy: 0.5459 - val_loss: 1.5923 - val_accuracy: 0.5185\n",
            "Epoch 27/50\n",
            "1353/1353 [==============================] - 3s 3ms/step - loss: 1.4625 - accuracy: 0.5455 - val_loss: 1.6030 - val_accuracy: 0.5144\n",
            "Epoch 28/50\n",
            "1353/1353 [==============================] - 3s 3ms/step - loss: 1.4492 - accuracy: 0.5488 - val_loss: 1.5959 - val_accuracy: 0.5147\n",
            "Epoch 29/50\n",
            "1353/1353 [==============================] - 3s 3ms/step - loss: 1.4582 - accuracy: 0.5505 - val_loss: 1.5976 - val_accuracy: 0.5177\n",
            "Epoch 30/50\n",
            "1353/1353 [==============================] - 3s 3ms/step - loss: 1.4549 - accuracy: 0.5449 - val_loss: 1.5972 - val_accuracy: 0.5196\n",
            "Epoch 31/50\n",
            "1353/1353 [==============================] - 3s 3ms/step - loss: 1.4492 - accuracy: 0.5502 - val_loss: 1.6046 - val_accuracy: 0.5203\n",
            "Epoch 32/50\n",
            "1353/1353 [==============================] - 3s 3ms/step - loss: 1.4374 - accuracy: 0.5530 - val_loss: 1.5961 - val_accuracy: 0.5209\n",
            "Epoch 33/50\n",
            "1353/1353 [==============================] - 3s 3ms/step - loss: 1.4402 - accuracy: 0.5520 - val_loss: 1.6098 - val_accuracy: 0.5117\n",
            "Epoch 34/50\n",
            "1353/1353 [==============================] - 3s 3ms/step - loss: 1.4360 - accuracy: 0.5541 - val_loss: 1.6117 - val_accuracy: 0.5151\n",
            "Epoch 35/50\n",
            "1353/1353 [==============================] - 3s 2ms/step - loss: 1.4312 - accuracy: 0.5562 - val_loss: 1.6090 - val_accuracy: 0.5141\n",
            "Epoch 36/50\n",
            "1353/1353 [==============================] - 3s 2ms/step - loss: 1.4258 - accuracy: 0.5568 - val_loss: 1.6112 - val_accuracy: 0.5181\n",
            "Epoch 37/50\n",
            "1353/1353 [==============================] - 3s 3ms/step - loss: 1.4257 - accuracy: 0.5589 - val_loss: 1.6037 - val_accuracy: 0.5178\n",
            "Epoch 38/50\n",
            "1353/1353 [==============================] - 3s 3ms/step - loss: 1.4237 - accuracy: 0.5602 - val_loss: 1.6110 - val_accuracy: 0.5179\n",
            "Epoch 39/50\n",
            "1353/1353 [==============================] - 3s 2ms/step - loss: 1.4319 - accuracy: 0.5565 - val_loss: 1.6146 - val_accuracy: 0.5140\n",
            "Epoch 40/50\n",
            "1353/1353 [==============================] - 3s 2ms/step - loss: 1.4141 - accuracy: 0.5573 - val_loss: 1.6275 - val_accuracy: 0.5114\n",
            "Epoch 41/50\n",
            "1353/1353 [==============================] - 3s 2ms/step - loss: 1.4153 - accuracy: 0.5605 - val_loss: 1.6244 - val_accuracy: 0.5096\n",
            "Epoch 42/50\n",
            "1353/1353 [==============================] - 3s 2ms/step - loss: 1.4083 - accuracy: 0.5622 - val_loss: 1.6307 - val_accuracy: 0.5051\n",
            "Epoch 43/50\n",
            "1353/1353 [==============================] - 3s 2ms/step - loss: 1.4099 - accuracy: 0.5604 - val_loss: 1.6344 - val_accuracy: 0.5096\n",
            "Epoch 44/50\n",
            "1353/1353 [==============================] - 3s 3ms/step - loss: 1.4198 - accuracy: 0.5590 - val_loss: 1.6205 - val_accuracy: 0.5150\n",
            "Epoch 45/50\n",
            "1353/1353 [==============================] - 3s 3ms/step - loss: 1.3938 - accuracy: 0.5662 - val_loss: 1.6241 - val_accuracy: 0.5153\n",
            "Epoch 46/50\n",
            "1353/1353 [==============================] - 3s 2ms/step - loss: 1.4031 - accuracy: 0.5628 - val_loss: 1.6217 - val_accuracy: 0.5113\n",
            "Epoch 47/50\n",
            "1353/1353 [==============================] - 3s 3ms/step - loss: 1.3991 - accuracy: 0.5619 - val_loss: 1.6272 - val_accuracy: 0.5155\n",
            "Epoch 48/50\n",
            "1353/1353 [==============================] - 3s 2ms/step - loss: 1.4058 - accuracy: 0.5608 - val_loss: 1.6332 - val_accuracy: 0.5095\n",
            "Epoch 49/50\n",
            "1353/1353 [==============================] - 3s 2ms/step - loss: 1.3992 - accuracy: 0.5628 - val_loss: 1.6283 - val_accuracy: 0.5106\n",
            "Epoch 50/50\n",
            "1353/1353 [==============================] - 3s 2ms/step - loss: 1.3988 - accuracy: 0.5617 - val_loss: 1.6196 - val_accuracy: 0.5155\n"
          ],
          "name": "stdout"
        }
      ]
    },
    {
      "cell_type": "code",
      "metadata": {
        "colab": {
          "base_uri": "https://localhost:8080/"
        },
        "id": "WENOXQaAUy6W",
        "outputId": "de34392f-96c3-4c1e-cf4f-cda1c25772da"
      },
      "source": [
        "history_dict = history.history\n",
        "history_dict.keys()"
      ],
      "execution_count": null,
      "outputs": [
        {
          "output_type": "execute_result",
          "data": {
            "text/plain": [
              "dict_keys(['loss', 'accuracy', 'val_loss', 'val_accuracy'])"
            ]
          },
          "metadata": {
            "tags": []
          },
          "execution_count": 94
        }
      ]
    },
    {
      "cell_type": "code",
      "metadata": {
        "colab": {
          "base_uri": "https://localhost:8080/",
          "height": 295
        },
        "id": "NmqOnOixVGj3",
        "outputId": "b9ea4849-2076-4c4a-84fd-8c2c3bba7559"
      },
      "source": [
        "acc = history_dict['accuracy']\n",
        "val_acc = history_dict['val_accuracy']\n",
        "loss = history_dict['loss']\n",
        "val_loss = history_dict['val_loss']\n",
        "\n",
        "epochs = range(1, len(acc) + 1)\n",
        "\n",
        "# \"bo\" is for \"blue dot\"\n",
        "plt.plot(epochs, loss, 'bo', label='Training loss')\n",
        "# b is for \"solid blue line\"\n",
        "plt.plot(epochs, val_loss, 'b', label='Validation loss')\n",
        "plt.title('Training and validation loss')\n",
        "plt.xlabel('Epochs')\n",
        "plt.ylabel('Loss')\n",
        "plt.legend()\n",
        "\n",
        "plt.show()"
      ],
      "execution_count": null,
      "outputs": [
        {
          "output_type": "display_data",
          "data": {
            "image/png": "[encoded data removed]",
            "text/plain": [
              "<Figure size 432x288 with 1 Axes>"
            ]
          },
          "metadata": {
            "tags": [],
            "needs_background": "light"
          }
        }
      ]
    },
    {
      "cell_type": "code",
      "metadata": {
        "colab": {
          "base_uri": "https://localhost:8080/",
          "height": 295
        },
        "id": "Lzpg-S1IVa03",
        "outputId": "540576f6-1ced-4a5b-bc62-6d8d42e8a57a"
      },
      "source": [
        "plt.plot(epochs, acc, 'bo', label='Training acc')\n",
        "plt.plot(epochs, val_acc, 'b', label='Validation acc')\n",
        "plt.title('Training and validation accuracy')\n",
        "plt.xlabel('Epochs')\n",
        "plt.ylabel('Accuracy')\n",
        "plt.legend(loc='lower right')\n",
        "\n",
        "plt.show()"
      ],
      "execution_count": null,
      "outputs": [
        {
          "output_type": "display_data",
          "data": {
            "image/png": "[encoded data removed]",
            "text/plain": [
              "<Figure size 432x288 with 1 Axes>"
            ]
          },
          "metadata": {
            "tags": [],
            "needs_background": "light"
          }
        }
      ]
    },
    {
      "cell_type": "code",
      "metadata": {
        "colab": {
          "base_uri": "https://localhost:8080/"
        },
        "id": "Gng7ODONVdOf",
        "outputId": "e0557a66-c47b-4187-97bb-51def0338987"
      },
      "source": [
        "model = create_model()\n",
        "\n",
        "model.fit(\n",
        "    train['text'], \n",
        "    train['target'], \n",
        "    epochs=10,\n",
        "    batch_size=32,\n",
        "    validation_data=(test['text'], test['target']),\n",
        ")"
      ],
      "execution_count": null,
      "outputs": [
        {
          "output_type": "stream",
          "text": [
            "WARNING:tensorflow:11 out of the last 11 calls to <function recreate_function.<locals>.restored_function_body at 0x7f107ba5f320> triggered tf.function retracing. Tracing is expensive and the excessive number of tracings could be due to (1) creating @tf.function repeatedly in a loop, (2) passing tensors with different shapes, (3) passing Python objects instead of tensors. For (1), please define your @tf.function outside of the loop. For (2), @tf.function has experimental_relax_shapes=True option that relaxes argument shapes that can avoid unnecessary retracing. For (3), please refer to https://www.tensorflow.org/guide/function#controlling_retracing and https://www.tensorflow.org/api_docs/python/tf/function for  more details.\n"
          ],
          "name": "stdout"
        },
        {
          "output_type": "stream",
          "text": [
            "WARNING:tensorflow:11 out of the last 11 calls to <function recreate_function.<locals>.restored_function_body at 0x7f107ba5f320> triggered tf.function retracing. Tracing is expensive and the excessive number of tracings could be due to (1) creating @tf.function repeatedly in a loop, (2) passing tensors with different shapes, (3) passing Python objects instead of tensors. For (1), please define your @tf.function outside of the loop. For (2), @tf.function has experimental_relax_shapes=True option that relaxes argument shapes that can avoid unnecessary retracing. For (3), please refer to https://www.tensorflow.org/guide/function#controlling_retracing and https://www.tensorflow.org/api_docs/python/tf/function for  more details.\n"
          ],
          "name": "stderr"
        },
        {
          "output_type": "stream",
          "text": [
            "WARNING:tensorflow:11 out of the last 11 calls to <function recreate_function.<locals>.restored_function_body at 0x7f105c39f7a0> triggered tf.function retracing. Tracing is expensive and the excessive number of tracings could be due to (1) creating @tf.function repeatedly in a loop, (2) passing tensors with different shapes, (3) passing Python objects instead of tensors. For (1), please define your @tf.function outside of the loop. For (2), @tf.function has experimental_relax_shapes=True option that relaxes argument shapes that can avoid unnecessary retracing. For (3), please refer to https://www.tensorflow.org/guide/function#controlling_retracing and https://www.tensorflow.org/api_docs/python/tf/function for  more details.\n"
          ],
          "name": "stdout"
        },
        {
          "output_type": "stream",
          "text": [
            "WARNING:tensorflow:11 out of the last 11 calls to <function recreate_function.<locals>.restored_function_body at 0x7f105c39f7a0> triggered tf.function retracing. Tracing is expensive and the excessive number of tracings could be due to (1) creating @tf.function repeatedly in a loop, (2) passing tensors with different shapes, (3) passing Python objects instead of tensors. For (1), please define your @tf.function outside of the loop. For (2), @tf.function has experimental_relax_shapes=True option that relaxes argument shapes that can avoid unnecessary retracing. For (3), please refer to https://www.tensorflow.org/guide/function#controlling_retracing and https://www.tensorflow.org/api_docs/python/tf/function for  more details.\n"
          ],
          "name": "stderr"
        },
        {
          "output_type": "stream",
          "text": [
            "Epoch 1/10\n",
            "1353/1353 [==============================] - 4s 3ms/step - loss: 2.1529 - accuracy: 0.3420 - val_loss: 1.7419 - val_accuracy: 0.4654\n",
            "Epoch 2/10\n",
            "1353/1353 [==============================] - 3s 2ms/step - loss: 1.7472 - accuracy: 0.4674 - val_loss: 1.6825 - val_accuracy: 0.4813\n",
            "Epoch 3/10\n",
            "1353/1353 [==============================] - 3s 2ms/step - loss: 1.6856 - accuracy: 0.4842 - val_loss: 1.6507 - val_accuracy: 0.4920\n",
            "Epoch 4/10\n",
            "1353/1353 [==============================] - 3s 2ms/step - loss: 1.6706 - accuracy: 0.4864 - val_loss: 1.6719 - val_accuracy: 0.4882\n",
            "Epoch 5/10\n",
            "1353/1353 [==============================] - 3s 2ms/step - loss: 1.6483 - accuracy: 0.4963 - val_loss: 1.6312 - val_accuracy: 0.4985\n",
            "Epoch 6/10\n",
            "1353/1353 [==============================] - 3s 2ms/step - loss: 1.6195 - accuracy: 0.5016 - val_loss: 1.6291 - val_accuracy: 0.4999\n",
            "Epoch 7/10\n",
            "1353/1353 [==============================] - 3s 2ms/step - loss: 1.6017 - accuracy: 0.5063 - val_loss: 1.6098 - val_accuracy: 0.5070\n",
            "Epoch 8/10\n",
            "1353/1353 [==============================] - 3s 2ms/step - loss: 1.6049 - accuracy: 0.5037 - val_loss: 1.6157 - val_accuracy: 0.5009\n",
            "Epoch 9/10\n",
            "1353/1353 [==============================] - 3s 2ms/step - loss: 1.5869 - accuracy: 0.5077 - val_loss: 1.6053 - val_accuracy: 0.5068\n",
            "Epoch 10/10\n",
            "1353/1353 [==============================] - 3s 2ms/step - loss: 1.5829 - accuracy: 0.5090 - val_loss: 1.6077 - val_accuracy: 0.5059\n"
          ],
          "name": "stdout"
        },
        {
          "output_type": "execute_result",
          "data": {
            "text/plain": [
              "<tensorflow.python.keras.callbacks.History at 0x7f107b60a450>"
            ]
          },
          "metadata": {
            "tags": []
          },
          "execution_count": 98
        }
      ]
    },
    {
      "cell_type": "code",
      "metadata": {
        "id": "mD8JLOG4USdK",
        "colab": {
          "base_uri": "https://localhost:8080/",
          "height": 163
        },
        "outputId": "5bfe6159-fb2e-488c-c9d6-202995ce6c39"
      },
      "source": [
        "model.save('saved_model/my_h5_model.h5')"
      ],
      "execution_count": null,
      "outputs": [
        {
          "output_type": "error",
          "ename": "NameError",
          "evalue": "ignored",
          "traceback": [
            "\u001b[0;31m---------------------------------------------------------------------------\u001b[0m",
            "\u001b[0;31mNameError\u001b[0m                                 Traceback (most recent call last)",
            "\u001b[0;32m<ipython-input-11-b552ccfa6ed7>\u001b[0m in \u001b[0;36m<module>\u001b[0;34m()\u001b[0m\n\u001b[0;32m----> 1\u001b[0;31m \u001b[0mmodel\u001b[0m\u001b[0;34m.\u001b[0m\u001b[0msave\u001b[0m\u001b[0;34m(\u001b[0m\u001b[0;34m'saved_model/my_h5_model.h5'\u001b[0m\u001b[0;34m)\u001b[0m\u001b[0;34m\u001b[0m\u001b[0;34m\u001b[0m\u001b[0m\n\u001b[0m",
            "\u001b[0;31mNameError\u001b[0m: name 'model' is not defined"
          ]
        }
      ]
    },
    {
      "cell_type": "code",
      "metadata": {
        "id": "RUBPz2kwQikQ"
      },
      "source": [
        "save_path = 'trained_model.ckpt'"
      ],
      "execution_count": null,
      "outputs": []
    },
    {
      "cell_type": "code",
      "metadata": {
        "id": "Jo_Vy2evTkZ1"
      },
      "source": [
        "model.save_weights(save_path)"
      ],
      "execution_count": null,
      "outputs": []
    },
    {
      "cell_type": "code",
      "metadata": {
        "id": "2-Ymxo-xTGLq"
      },
      "source": [
        "restored_model = create_model()"
      ],
      "execution_count": null,
      "outputs": []
    },
    {
      "cell_type": "code",
      "metadata": {
        "colab": {
          "base_uri": "https://localhost:8080/",
          "height": 442
        },
        "id": "QVigAT0rToPx",
        "outputId": "559416f5-c067-4576-cb5c-f5733bff5df4"
      },
      "source": [
        "restored_model.load_weights(save_path)"
      ],
      "execution_count": null,
      "outputs": [
        {
          "output_type": "error",
          "ename": "NotFoundError",
          "evalue": "ignored",
          "traceback": [
            "\u001b[0;31m---------------------------------------------------------------------------\u001b[0m",
            "\u001b[0;31mRuntimeError\u001b[0m                              Traceback (most recent call last)",
            "\u001b[0;32m/usr/local/lib/python3.7/dist-packages/tensorflow/python/training/py_checkpoint_reader.py\u001b[0m in \u001b[0;36mNewCheckpointReader\u001b[0;34m(filepattern)\u001b[0m\n\u001b[1;32m     94\u001b[0m   \u001b[0;32mtry\u001b[0m\u001b[0;34m:\u001b[0m\u001b[0;34m\u001b[0m\u001b[0;34m\u001b[0m\u001b[0m\n\u001b[0;32m---> 95\u001b[0;31m     \u001b[0;32mreturn\u001b[0m \u001b[0mCheckpointReader\u001b[0m\u001b[0;34m(\u001b[0m\u001b[0mcompat\u001b[0m\u001b[0;34m.\u001b[0m\u001b[0mas_bytes\u001b[0m\u001b[0;34m(\u001b[0m\u001b[0mfilepattern\u001b[0m\u001b[0;34m)\u001b[0m\u001b[0;34m)\u001b[0m\u001b[0;34m\u001b[0m\u001b[0;34m\u001b[0m\u001b[0m\n\u001b[0m\u001b[1;32m     96\u001b[0m   \u001b[0;31m# TODO(b/143319754): Remove the RuntimeError casting logic once we resolve the\u001b[0m\u001b[0;34m\u001b[0m\u001b[0;34m\u001b[0m\u001b[0;34m\u001b[0m\u001b[0m\n",
            "\u001b[0;31mRuntimeError\u001b[0m: Unsuccessful TensorSliceReader constructor: Failed to find any matching files for trained_model.ckpt",
            "\nDuring handling of the above exception, another exception occurred:\n",
            "\u001b[0;31mNotFoundError\u001b[0m                             Traceback (most recent call last)",
            "\u001b[0;32m<ipython-input-15-eefcb821078c>\u001b[0m in \u001b[0;36m<module>\u001b[0;34m()\u001b[0m\n\u001b[0;32m----> 1\u001b[0;31m \u001b[0mrestored_model\u001b[0m\u001b[0;34m.\u001b[0m\u001b[0mload_weights\u001b[0m\u001b[0;34m(\u001b[0m\u001b[0msave_path\u001b[0m\u001b[0;34m)\u001b[0m\u001b[0;34m\u001b[0m\u001b[0;34m\u001b[0m\u001b[0m\n\u001b[0m",
            "\u001b[0;32m/usr/local/lib/python3.7/dist-packages/tensorflow/python/keras/engine/training.py\u001b[0m in \u001b[0;36mload_weights\u001b[0;34m(self, filepath, by_name, skip_mismatch, options)\u001b[0m\n\u001b[1;32m   2197\u001b[0m     \u001b[0;32melse\u001b[0m\u001b[0;34m:\u001b[0m\u001b[0;34m\u001b[0m\u001b[0;34m\u001b[0m\u001b[0m\n\u001b[1;32m   2198\u001b[0m       \u001b[0;32mtry\u001b[0m\u001b[0;34m:\u001b[0m\u001b[0;34m\u001b[0m\u001b[0;34m\u001b[0m\u001b[0m\n\u001b[0;32m-> 2199\u001b[0;31m         \u001b[0mpy_checkpoint_reader\u001b[0m\u001b[0;34m.\u001b[0m\u001b[0mNewCheckpointReader\u001b[0m\u001b[0;34m(\u001b[0m\u001b[0mfilepath\u001b[0m\u001b[0;34m)\u001b[0m\u001b[0;34m\u001b[0m\u001b[0;34m\u001b[0m\u001b[0m\n\u001b[0m\u001b[1;32m   2200\u001b[0m         \u001b[0msave_format\u001b[0m \u001b[0;34m=\u001b[0m \u001b[0;34m'tf'\u001b[0m\u001b[0;34m\u001b[0m\u001b[0;34m\u001b[0m\u001b[0m\n\u001b[1;32m   2201\u001b[0m       \u001b[0;32mexcept\u001b[0m \u001b[0merrors_impl\u001b[0m\u001b[0;34m.\u001b[0m\u001b[0mDataLossError\u001b[0m\u001b[0;34m:\u001b[0m\u001b[0;34m\u001b[0m\u001b[0;34m\u001b[0m\u001b[0m\n",
            "\u001b[0;32m/usr/local/lib/python3.7/dist-packages/tensorflow/python/training/py_checkpoint_reader.py\u001b[0m in \u001b[0;36mNewCheckpointReader\u001b[0;34m(filepattern)\u001b[0m\n\u001b[1;32m     97\u001b[0m   \u001b[0;31m# issue with throwing python exceptions from C++.\u001b[0m\u001b[0;34m\u001b[0m\u001b[0;34m\u001b[0m\u001b[0;34m\u001b[0m\u001b[0m\n\u001b[1;32m     98\u001b[0m   \u001b[0;32mexcept\u001b[0m \u001b[0mRuntimeError\u001b[0m \u001b[0;32mas\u001b[0m \u001b[0me\u001b[0m\u001b[0;34m:\u001b[0m\u001b[0;34m\u001b[0m\u001b[0;34m\u001b[0m\u001b[0m\n\u001b[0;32m---> 99\u001b[0;31m     \u001b[0merror_translator\u001b[0m\u001b[0;34m(\u001b[0m\u001b[0me\u001b[0m\u001b[0;34m)\u001b[0m\u001b[0;34m\u001b[0m\u001b[0;34m\u001b[0m\u001b[0m\n\u001b[0m",
            "\u001b[0;32m/usr/local/lib/python3.7/dist-packages/tensorflow/python/training/py_checkpoint_reader.py\u001b[0m in \u001b[0;36merror_translator\u001b[0;34m(e)\u001b[0m\n\u001b[1;32m     33\u001b[0m       \u001b[0;34m'Failed to find any '\u001b[0m\u001b[0;34m\u001b[0m\u001b[0;34m\u001b[0m\u001b[0m\n\u001b[1;32m     34\u001b[0m       'matching files for') in error_message:\n\u001b[0;32m---> 35\u001b[0;31m     \u001b[0;32mraise\u001b[0m \u001b[0merrors_impl\u001b[0m\u001b[0;34m.\u001b[0m\u001b[0mNotFoundError\u001b[0m\u001b[0;34m(\u001b[0m\u001b[0;32mNone\u001b[0m\u001b[0;34m,\u001b[0m \u001b[0;32mNone\u001b[0m\u001b[0;34m,\u001b[0m \u001b[0merror_message\u001b[0m\u001b[0;34m)\u001b[0m\u001b[0;34m\u001b[0m\u001b[0;34m\u001b[0m\u001b[0m\n\u001b[0m\u001b[1;32m     36\u001b[0m   elif 'Sliced checkpoints are not supported' in error_message or (\n\u001b[1;32m     37\u001b[0m       \u001b[0;34m'Data type '\u001b[0m\u001b[0;34m\u001b[0m\u001b[0;34m\u001b[0m\u001b[0m\n",
            "\u001b[0;31mNotFoundError\u001b[0m: Unsuccessful TensorSliceReader constructor: Failed to find any matching files for trained_model.ckpt"
          ]
        }
      ]
    },
    {
      "cell_type": "code",
      "metadata": {
        "colab": {
          "base_uri": "https://localhost:8080/"
        },
        "id": "_AmbcsZWTqSN",
        "outputId": "6dcf9198-a3cd-42af-e770-25744845dd31"
      },
      "source": [
        "restored_model.evaluate(test['text'], test['target'])"
      ],
      "execution_count": null,
      "outputs": [
        {
          "output_type": "stream",
          "text": [
            "339/339 [==============================] - 1s 1ms/step - loss: 1.6365 - accuracy: 0.5101\n"
          ],
          "name": "stdout"
        },
        {
          "output_type": "execute_result",
          "data": {
            "text/plain": [
              "[1.6196348667144775, 0.5155268311500549]"
            ]
          },
          "metadata": {
            "tags": []
          },
          "execution_count": 91
        }
      ]
    },
    {
      "cell_type": "code",
      "metadata": {
        "colab": {
          "base_uri": "https://localhost:8080/"
        },
        "id": "bA44w5F-VNAx",
        "outputId": "086eb0fc-8865-46c4-b53c-70ae9c007190"
      },
      "source": [
        "new_model = create_model()\n",
        "new_model.load_weights('/content/my_h5_model.h5')\n",
        "\n",
        "new_model.predict(['i like anime'])"
      ],
      "execution_count": null,
      "outputs": [
        {
          "output_type": "stream",
          "text": [
            "WARNING:tensorflow:7 out of the last 7 calls to <function recreate_function.<locals>.restored_function_body at 0x7f5f518c6c20> triggered tf.function retracing. Tracing is expensive and the excessive number of tracings could be due to (1) creating @tf.function repeatedly in a loop, (2) passing tensors with different shapes, (3) passing Python objects instead of tensors. For (1), please define your @tf.function outside of the loop. For (2), @tf.function has experimental_relax_shapes=True option that relaxes argument shapes that can avoid unnecessary retracing. For (3), please refer to https://www.tensorflow.org/guide/function#controlling_retracing and https://www.tensorflow.org/api_docs/python/tf/function for  more details.\n"
          ],
          "name": "stdout"
        },
        {
          "output_type": "stream",
          "text": [
            "WARNING:tensorflow:7 out of the last 7 calls to <function recreate_function.<locals>.restored_function_body at 0x7f5f518c6c20> triggered tf.function retracing. Tracing is expensive and the excessive number of tracings could be due to (1) creating @tf.function repeatedly in a loop, (2) passing tensors with different shapes, (3) passing Python objects instead of tensors. For (1), please define your @tf.function outside of the loop. For (2), @tf.function has experimental_relax_shapes=True option that relaxes argument shapes that can avoid unnecessary retracing. For (3), please refer to https://www.tensorflow.org/guide/function#controlling_retracing and https://www.tensorflow.org/api_docs/python/tf/function for  more details.\n"
          ],
          "name": "stderr"
        },
        {
          "output_type": "stream",
          "text": [
            "WARNING:tensorflow:8 out of the last 8 calls to <function recreate_function.<locals>.restored_function_body at 0x7f5f54c23680> triggered tf.function retracing. Tracing is expensive and the excessive number of tracings could be due to (1) creating @tf.function repeatedly in a loop, (2) passing tensors with different shapes, (3) passing Python objects instead of tensors. For (1), please define your @tf.function outside of the loop. For (2), @tf.function has experimental_relax_shapes=True option that relaxes argument shapes that can avoid unnecessary retracing. For (3), please refer to https://www.tensorflow.org/guide/function#controlling_retracing and https://www.tensorflow.org/api_docs/python/tf/function for  more details.\n"
          ],
          "name": "stdout"
        },
        {
          "output_type": "stream",
          "text": [
            "WARNING:tensorflow:8 out of the last 8 calls to <function recreate_function.<locals>.restored_function_body at 0x7f5f54c23680> triggered tf.function retracing. Tracing is expensive and the excessive number of tracings could be due to (1) creating @tf.function repeatedly in a loop, (2) passing tensors with different shapes, (3) passing Python objects instead of tensors. For (1), please define your @tf.function outside of the loop. For (2), @tf.function has experimental_relax_shapes=True option that relaxes argument shapes that can avoid unnecessary retracing. For (3), please refer to https://www.tensorflow.org/guide/function#controlling_retracing and https://www.tensorflow.org/api_docs/python/tf/function for  more details.\n"
          ],
          "name": "stderr"
        },
        {
          "output_type": "execute_result",
          "data": {
            "text/plain": [
              "array([[-4.0853114 , -5.996764  , -0.9963024 ,  5.3889675 ,  5.8631144 ,\n",
              "        -1.5224459 , -3.1300104 , -2.9317698 , -4.1298614 , -2.985921  ,\n",
              "        -4.2055984 , -3.6933894 ,  1.6867087 , -0.25840282, -4.8462996 ,\n",
              "        -3.5583968 , -5.4224243 , -1.2960075 ,  2.417191  , -0.0571719 ]],\n",
              "      dtype=float32)"
            ]
          },
          "metadata": {
            "tags": []
          },
          "execution_count": 19
        }
      ]
    }
  ]
}